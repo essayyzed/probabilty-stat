{
 "cells": [
  {
   "cell_type": "markdown",
   "metadata": {},
   "source": [
    "# Probabilty & Statistics\n"
   ]
  },
  {
   "cell_type": "code",
   "execution_count": 2,
   "metadata": {},
   "outputs": [],
   "source": [
    "import matplotlib\n",
    "import matplotlib.pyplot as plt\n",
    "%matplotlib inline\n",
    "\n",
    "import numpy as np\n",
    "import pandas as pd"
   ]
  },
  {
   "cell_type": "code",
   "execution_count": 31,
   "metadata": {},
   "outputs": [],
   "source": [
    "url = \"data/nhanes_2015_2016.csv\"\n",
    "da = pd.read_csv(url)"
   ]
  },
  {
   "cell_type": "markdown",
   "metadata": {},
   "source": [
    "The data which we are going to analyse is taken from **NHANES** data set. We are going to give the analysis of the Age which is given by `RIDAGEYR` in the dataset."
   ]
  },
  {
   "cell_type": "markdown",
   "metadata": {},
   "source": [
    "## Mean\n",
    "In order to find mean of the age we can use the bultin function of `NUMPY` called `np.mean`."
   ]
  },
  {
   "cell_type": "code",
   "execution_count": 33,
   "metadata": {},
   "outputs": [
    {
     "name": "stdout",
     "output_type": "stream",
     "text": [
      "Mean of the AGE is =  48.05231037489102\n"
     ]
    }
   ],
   "source": [
    "mean_age=np.mean(da.RIDAGEYR)\n",
    "print(\"Mean of the AGE  = \" , mean_age)"
   ]
  },
  {
   "cell_type": "markdown",
   "metadata": {},
   "source": [
    "## Median \n",
    "In order to find mean of the age we can use the bultin function of `NUMPY` called `np.median`."
   ]
  },
  {
   "cell_type": "code",
   "execution_count": 34,
   "metadata": {},
   "outputs": [
    {
     "name": "stdout",
     "output_type": "stream",
     "text": [
      "Median of the AGE =  48.0\n"
     ]
    }
   ],
   "source": [
    "median_age=np.median(da.RIDAGEYR)\n",
    "print(\"Median of the AGE = \", median_age)"
   ]
  },
  {
   "cell_type": "markdown",
   "metadata": {},
   "source": [
    "## Q1\n",
    "In order to find mean of the age we can use the bultin function of `NUMPY` called `np.quantile`.\n",
    "As Q3 is .25 of the data so we will specfiy it in the parameter."
   ]
  },
  {
   "cell_type": "code",
   "execution_count": 35,
   "metadata": {},
   "outputs": [
    {
     "name": "stdout",
     "output_type": "stream",
     "text": [
      "Q1 of the Age =   32.0\n"
     ]
    }
   ],
   "source": [
    "q1_age=np.quantile(da.RIDAGEYR, .25)\n",
    "print(\"Q1 of the Age =  \", q1_age)"
   ]
  },
  {
   "cell_type": "markdown",
   "metadata": {},
   "source": [
    "## Q3 \n",
    "In order to find mean of the age we can use the bultin function of `NUMPY` called `np.quantile`.\n",
    "As Q3 is .75 of the data so we will specfiy it in the parameter."
   ]
  },
  {
   "cell_type": "code",
   "execution_count": 36,
   "metadata": {},
   "outputs": [
    {
     "name": "stdout",
     "output_type": "stream",
     "text": [
      "Q3 of the Age =   63.0\n"
     ]
    }
   ],
   "source": [
    "q3_age=np.quantile(da.RIDAGEYR, .75)\n",
    "print(\"Q3 of the Age =  \", q3_age)"
   ]
  },
  {
   "cell_type": "markdown",
   "metadata": {},
   "source": [
    "# Box Plot of the three values."
   ]
  },
  {
   "cell_type": "code",
   "execution_count": 42,
   "metadata": {},
   "outputs": [
    {
     "data": {
      "image/png": "[encoded data removed]",
      "text/plain": [
       "<Figure size 432x288 with 1 Axes>"
      ]
     },
     "metadata": {
      "needs_background": "light"
     },
     "output_type": "display_data"
    }
   ],
   "source": [
    "plt.boxplot(da.RIDAGEYR, showmeans=True, showfliers=True, vert=False)\n",
    "plt.title(\"Mean, Median, Q1 and Q3 of Age\")\n",
    "plt.xlabel(\"Age\")\n",
    "plt.ylabel(\"Q1, Median, Mean, Q3\")\n",
    "plt.show()"
   ]
  },
  {
   "cell_type": "markdown",
   "metadata": {},
   "source": [
    "In the above diagram the very first line before `20` shows the **minimum** value. The second line(vertical) shows the **First Quantile** value which `32`. The third line highlighted in **red** shows the `median` while the arrow shows `mean` value. The fourth line (3rd line of box) shows the **Third Quantile**. "
   ]
  }
 ],
 "metadata": {
  "kernelspec": {
   "display_name": "Python 3",
   "language": "python",
   "name": "python3"
  },
  "language_info": {
   "codemirror_mode": {
    "name": "ipython",
    "version": 3
   },
   "file_extension": ".py",
   "mimetype": "text/x-python",
   "name": "python",
   "nbconvert_exporter": "python",
   "pygments_lexer": "ipython3",
   "version": "3.7.6"
  }
 },
 "nbformat": 4,
 "nbformat_minor": 4
}
